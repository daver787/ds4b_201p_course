{
 "cells": [
  {
   "cell_type": "markdown",
   "metadata": {},
   "source": [
    "# Challenge 1: Analyze Specific Products With Regex"
   ]
  },
  {
   "cell_type": "markdown",
   "metadata": {},
   "source": [
    "Machine Learning & APIs with Python Course (DS4B 201-P)\n",
    "\n",
    "Business Science"
   ]
  },
  {
   "cell_type": "markdown",
   "metadata": {},
   "source": [
    "# Challenge Summary\n",
    "\n",
    "**The Situation:** Your boss comes back and asks you to modify the analysis to understand customer's attributes that are interested in purchasing learning labs vs the R-Track Courses. You agree since there could be differences or similarities between the two populations. But how would you update the analysis?\n",
    "\n",
    "**Your Proposed Solution:** You recommend to update the analysis so different products can be targeted such as \"All Products\" or lists of product names (e.g. \"Learning Labs PRO\"). You have heard that Regular Expression can help to filter, and you propose updating the Targeting function `els.db_read_els_data_regex()` to permit filtering products with regular expressions. "
   ]
  },
  {
   "cell_type": "markdown",
   "metadata": {},
   "source": [
    "## Objectives:\n",
    "\n",
    "1. Update `email_lead_scoring` functionality to filter the products\n",
    "\n",
    "2. Apply the existing functionality to analyze trends and compare purchasers of products."
   ]
  },
  {
   "cell_type": "markdown",
   "metadata": {},
   "source": [
    "## Getting Started\n",
    "\n",
    "To read in the data, make sure your current working directory is set to the project directory. Two useful jupyter magic commands are:\n",
    "\n",
    "1. `%pwd`: Print working directory (you can detect your current directory)\n",
    "2. `%cd`: You can change directory to your working directory using relative paths or full paths."
   ]
  },
  {
   "cell_type": "code",
   "execution_count": 1,
   "metadata": {},
   "outputs": [
    {
     "data": {
      "text/plain": [
       "'C:\\\\Users\\\\Owner\\\\OneDrive\\\\DESKTOP\\\\DS4B_201P\\\\ds4b_201p_course\\\\challenge_01'"
      ]
     },
     "execution_count": 1,
     "metadata": {},
     "output_type": "execute_result"
    }
   ],
   "source": [
    "%pwd"
   ]
  },
  {
   "cell_type": "code",
   "execution_count": 2,
   "metadata": {},
   "outputs": [
    {
     "name": "stdout",
     "output_type": "stream",
     "text": [
      "C:\\Users\\Owner\\OneDrive\\DESKTOP\\DS4B_201P\\ds4b_201p_course\n"
     ]
    }
   ],
   "source": [
    "%cd C:\\\\Users\\\\Owner\\\\OneDrive\\\\DESKTOP\\\\DS4B_201P\\\\ds4b_201p_course"
   ]
  },
  {
   "cell_type": "code",
   "execution_count": 3,
   "metadata": {},
   "outputs": [
    {
     "data": {
      "text/plain": [
       "'C:\\\\Users\\\\Owner\\\\OneDrive\\\\DESKTOP\\\\DS4B_201P\\\\ds4b_201p_course'"
      ]
     },
     "execution_count": 3,
     "metadata": {},
     "output_type": "execute_result"
    }
   ],
   "source": [
    "%pwd"
   ]
  },
  {
   "cell_type": "markdown",
   "metadata": {},
   "source": [
    "## Python Package Imports"
   ]
  },
  {
   "cell_type": "code",
   "execution_count": 4,
   "metadata": {},
   "outputs": [],
   "source": [
    "import pandas as pd\n",
    "import numpy as np\n",
    "import sqlalchemy as sql\n",
    "import sweetviz as sv\n",
    "import email_lead_scoring as els"
   ]
  },
  {
   "cell_type": "markdown",
   "metadata": {},
   "source": [
    "# Part 1: Using Regex to Locate Products in the Products Table"
   ]
  },
  {
   "cell_type": "markdown",
   "metadata": {},
   "source": [
    "### Step 1: List the Database Table Names\n",
    "\n",
    "Use `db_read_els_table_names()` to get the tables in the database. "
   ]
  },
  {
   "cell_type": "code",
   "execution_count": 6,
   "metadata": {},
   "outputs": [
    {
     "data": {
      "text/plain": [
       "['Products', 'Subscribers', 'Tags', 'Transactions', 'Website']"
      ]
     },
     "execution_count": 6,
     "metadata": {},
     "output_type": "execute_result"
    }
   ],
   "source": [
    "els.db_read_els_table_names()"
   ]
  },
  {
   "cell_type": "markdown",
   "metadata": {},
   "source": [
    "### Step 2: Collect the Products Table\n",
    "\n",
    "1. Create a `products_df` by reading in the raw els table \"Products\"\n",
    "2. Convert the type of \"product_id\" to `int`.\n",
    "3. Display the first 10 rows with the `.head()` method"
   ]
  },
  {
   "cell_type": "code",
   "execution_count": 14,
   "metadata": {},
   "outputs": [
    {
     "data": {
      "text/html": [
       "<div>\n",
       "<style scoped>\n",
       "    .dataframe tbody tr th:only-of-type {\n",
       "        vertical-align: middle;\n",
       "    }\n",
       "\n",
       "    .dataframe tbody tr th {\n",
       "        vertical-align: top;\n",
       "    }\n",
       "\n",
       "    .dataframe thead th {\n",
       "        text-align: right;\n",
       "    }\n",
       "</style>\n",
       "<table border=\"1\" class=\"dataframe\">\n",
       "  <thead>\n",
       "    <tr style=\"text-align: right;\">\n",
       "      <th></th>\n",
       "      <th>product_id</th>\n",
       "      <th>description</th>\n",
       "      <th>suggested_price</th>\n",
       "    </tr>\n",
       "  </thead>\n",
       "  <tbody>\n",
       "    <tr>\n",
       "      <th>0</th>\n",
       "      <td>1</td>\n",
       "      <td>4-Course Bundle - Machine Learning + Expert We...</td>\n",
       "      <td>241.666667</td>\n",
       "    </tr>\n",
       "    <tr>\n",
       "      <th>1</th>\n",
       "      <td>2</td>\n",
       "      <td>4-Course Bundle - Machine Learning + Expert We...</td>\n",
       "      <td>441.666667</td>\n",
       "    </tr>\n",
       "    <tr>\n",
       "      <th>2</th>\n",
       "      <td>3</td>\n",
       "      <td>4-Course Bundle - Machine Learning + Expert We...</td>\n",
       "      <td>2500.000000</td>\n",
       "    </tr>\n",
       "    <tr>\n",
       "      <th>3</th>\n",
       "      <td>4</td>\n",
       "      <td>5 Course Bundle - Machine Learning + Web Apps ...</td>\n",
       "      <td>275.000000</td>\n",
       "    </tr>\n",
       "    <tr>\n",
       "      <th>4</th>\n",
       "      <td>5</td>\n",
       "      <td>5 Course Bundle - Machine Learning + Web Apps ...</td>\n",
       "      <td>194.444444</td>\n",
       "    </tr>\n",
       "  </tbody>\n",
       "</table>\n",
       "</div>"
      ],
      "text/plain": [
       "   product_id                                        description  \\\n",
       "0           1  4-Course Bundle - Machine Learning + Expert We...   \n",
       "1           2  4-Course Bundle - Machine Learning + Expert We...   \n",
       "2           3  4-Course Bundle - Machine Learning + Expert We...   \n",
       "3           4  5 Course Bundle - Machine Learning + Web Apps ...   \n",
       "4           5  5 Course Bundle - Machine Learning + Web Apps ...   \n",
       "\n",
       "   suggested_price  \n",
       "0       241.666667  \n",
       "1       441.666667  \n",
       "2      2500.000000  \n",
       "3       275.000000  \n",
       "4       194.444444  "
      ]
     },
     "execution_count": 14,
     "metadata": {},
     "output_type": "execute_result"
    }
   ],
   "source": [
    "products_df = els.db_read_raw_ets_table(table = 'Products')\n",
    "products_df['product_id'] = products_df['product_id'].astype('int')\n",
    "products_df.head()"
   ]
  },
  {
   "cell_type": "markdown",
   "metadata": {},
   "source": [
    "Next, get the product descriptions as a pandas Series. And store these as `product_descriptions_series`. "
   ]
  },
  {
   "cell_type": "code",
   "execution_count": 16,
   "metadata": {},
   "outputs": [
    {
     "data": {
      "text/plain": [
       "0     4-Course Bundle - Machine Learning + Expert We...\n",
       "1     4-Course Bundle - Machine Learning + Expert We...\n",
       "2     4-Course Bundle - Machine Learning + Expert We...\n",
       "3     5 Course Bundle - Machine Learning + Web Apps ...\n",
       "4     5 Course Bundle - Machine Learning + Web Apps ...\n",
       "5     5 Course Bundle - Machine Learning + Web Apps ...\n",
       "6     5 Course Bundle - Machine Learning + Web Apps ...\n",
       "7     Bundle - Data Science Starter Kit: R-Track - C...\n",
       "8     Bundle - Data Science Starter Kit: R-Track - C...\n",
       "9     Bundle - DS For Business + Web Apps (Level 1):...\n",
       "10    Bundle - DS For Business + Web Apps (Level 1):...\n",
       "11    Bundle - DS For Business + Web Apps (Level 1):...\n",
       "12    Bundle - DS For Business + Web Apps (Level 1):...\n",
       "13    Bundle - Machine Learning For Business: R-Trac...\n",
       "14    Bundle - Machine Learning For Business: R-Trac...\n",
       "15    Bundle - Machine Learning For Business: R-Trac...\n",
       "16    DS4B 101-R: Business Analysis With R - 3 Low M...\n",
       "17    DS4B 101-R: Business Analysis With R - 6 Low M...\n",
       "18    DS4B 101-R: Business Analysis With R - Monthly...\n",
       "19    DS4B 101-R: Business Analysis With R - Paid Co...\n",
       "20    DS4B 101-R: Business Analysis With R - Single ...\n",
       "21    DS4B 102-R: Shiny Web Applications (Intermedia...\n",
       "22    DS4B 102-R: Shiny Web Applications (Intermedia...\n",
       "23    DS4B 201-R: Data Science For Business With R -...\n",
       "24    DS4B 201-R: Data Science For Business With R -...\n",
       "25    DS4B 201-R: Data Science For Business With R -...\n",
       "26    DS4B 201-R: Data Science For Business With R -...\n",
       "27    DS4B 201-R: Data Science For Business With R -...\n",
       "28    DS4B 201-R: Data Science For Business With R -...\n",
       "29    DS4B 201-R: Data Science For Business With R -...\n",
       "30    DS4B 202A-R: Shiny Developer with AWS - 6 Low ...\n",
       "31    DS4B 202A-R: Shiny Developer with AWS - Paid C...\n",
       "32    DS4B 203-R: High-Performance Time Series Forec...\n",
       "33    DS4B 203-R: High-Performance Time Series Forec...\n",
       "34    DS4B 203-R: High-Performance Time Series Forec...\n",
       "35                  Jumpstart with R - Get Jumpstarted!\n",
       "36           Learning Labs Pro - 6-month Payment Option\n",
       "37             Learning Labs Pro - Low Monthly Payments\n",
       "38                      Learning Labs Pro - Paid Course\n",
       "39    Learning Labs Pro - Subscribe to LL PRO 6-Mont...\n",
       "40    Learning Labs Pro - Subscribe to LL PRO Annual...\n",
       "41    Learning Labs Pro - Subscribe to LL PRO Monthl...\n",
       "42                Learning Labs Pro - Yearly Membership\n",
       "43                      Learning Labs Pro - Yearly Plan\n",
       "Name: description, dtype: object"
      ]
     },
     "execution_count": 16,
     "metadata": {},
     "output_type": "execute_result"
    }
   ],
   "source": [
    "product_description_series = products_df['description']\n",
    "product_description_series"
   ]
  },
  {
   "cell_type": "markdown",
   "metadata": {},
   "source": [
    "### Step 3: Use Regex To Filter Data\n",
    "\n",
    "In this next part, we will use `regex`, a text matching algorithm, to filter the product IDs that we wish to analyze. \n",
    "\n",
    "* Use `.str.match(\"Learning Lab\")` to detect the presence of learning lab. \n",
    "* Store the resulting pandas series as `_filter`"
   ]
  },
  {
   "cell_type": "code",
   "execution_count": 18,
   "metadata": {},
   "outputs": [],
   "source": [
    "_filter = product_description_series.str.match(\"Learning Lab\")"
   ]
  },
  {
   "cell_type": "markdown",
   "metadata": {},
   "source": [
    "Use the `_filter` to select product ID's for product descriptions that contain \"Learning Lab\"\n",
    "\n",
    "* Take the `products_df` table\n",
    "* Use `[_filter]` to mask the rows that are `False`\n",
    "* Select the `['product_id']` that correspond to the masked rows\n",
    "* Store the result as `product_ids_filtered_series`"
   ]
  },
  {
   "cell_type": "code",
   "execution_count": 22,
   "metadata": {},
   "outputs": [
    {
     "data": {
      "text/plain": [
       "36    39\n",
       "37    40\n",
       "38    41\n",
       "39    42\n",
       "40    43\n",
       "41    44\n",
       "42    45\n",
       "43    46\n",
       "Name: product_id, dtype: int32"
      ]
     },
     "execution_count": 22,
     "metadata": {},
     "output_type": "execute_result"
    }
   ],
   "source": [
    "product_ids_filtered_series = products_df[_filter]['product_id']\n",
    "product_ids_filtered_series"
   ]
  },
  {
   "cell_type": "markdown",
   "metadata": {},
   "source": [
    "# Part 2: Filtering the Transactions Table by Product ID"
   ]
  },
  {
   "cell_type": "markdown",
   "metadata": {},
   "source": [
    "### Step 1: Filter the Transactions Corresponding to the Filtered Product IDs\n",
    "\n",
    "Next, we'll filter the transactions table to down to just the transactions with the product IDs we are interested in. \n",
    "\n",
    "* Read the raw \"Transactions\" Table, and store it as `transactions_df` \n",
    "* Convert the \"product_id\" column to type `int`\n",
    "* Store the result as `transactions_df`"
   ]
  },
  {
   "cell_type": "code",
   "execution_count": 25,
   "metadata": {},
   "outputs": [
    {
     "data": {
      "text/html": [
       "<div>\n",
       "<style scoped>\n",
       "    .dataframe tbody tr th:only-of-type {\n",
       "        vertical-align: middle;\n",
       "    }\n",
       "\n",
       "    .dataframe tbody tr th {\n",
       "        vertical-align: top;\n",
       "    }\n",
       "\n",
       "    .dataframe thead th {\n",
       "        text-align: right;\n",
       "    }\n",
       "</style>\n",
       "<table border=\"1\" class=\"dataframe\">\n",
       "  <thead>\n",
       "    <tr style=\"text-align: right;\">\n",
       "      <th></th>\n",
       "      <th>transaction_id</th>\n",
       "      <th>purchased_at</th>\n",
       "      <th>user_full_name</th>\n",
       "      <th>user_email</th>\n",
       "      <th>charge_country</th>\n",
       "      <th>product_id</th>\n",
       "    </tr>\n",
       "  </thead>\n",
       "  <tbody>\n",
       "    <tr>\n",
       "      <th>0</th>\n",
       "      <td>1</td>\n",
       "      <td>2018-04-29</td>\n",
       "      <td>Deliah Kemmer</td>\n",
       "      <td>deliah.kemmer@gmail.com</td>\n",
       "      <td>US</td>\n",
       "      <td>31</td>\n",
       "    </tr>\n",
       "    <tr>\n",
       "      <th>1</th>\n",
       "      <td>2</td>\n",
       "      <td>2018-04-29</td>\n",
       "      <td>Dr. Ronal Keeling DVM</td>\n",
       "      <td>dr.ronal.keeling.dvm@gmail.com</td>\n",
       "      <td>NZ</td>\n",
       "      <td>31</td>\n",
       "    </tr>\n",
       "    <tr>\n",
       "      <th>2</th>\n",
       "      <td>3</td>\n",
       "      <td>2018-04-29</td>\n",
       "      <td>Taya Ondricka-Orn</td>\n",
       "      <td>taya.ondrickaorn@hotmail.com</td>\n",
       "      <td>US</td>\n",
       "      <td>31</td>\n",
       "    </tr>\n",
       "    <tr>\n",
       "      <th>3</th>\n",
       "      <td>4</td>\n",
       "      <td>2018-04-29</td>\n",
       "      <td>Camren Auer DDS</td>\n",
       "      <td>camren.auer.dds@live.com</td>\n",
       "      <td>AU</td>\n",
       "      <td>31</td>\n",
       "    </tr>\n",
       "    <tr>\n",
       "      <th>4</th>\n",
       "      <td>5</td>\n",
       "      <td>2018-04-29</td>\n",
       "      <td>Dr Janna Glover Ph.D.</td>\n",
       "      <td>dr.janna.glover.phd@gmail.com</td>\n",
       "      <td>GB</td>\n",
       "      <td>31</td>\n",
       "    </tr>\n",
       "    <tr>\n",
       "      <th>...</th>\n",
       "      <td>...</td>\n",
       "      <td>...</td>\n",
       "      <td>...</td>\n",
       "      <td>...</td>\n",
       "      <td>...</td>\n",
       "      <td>...</td>\n",
       "    </tr>\n",
       "    <tr>\n",
       "      <th>4657</th>\n",
       "      <td>4658</td>\n",
       "      <td>2020-12-31</td>\n",
       "      <td>Bedford Farrell</td>\n",
       "      <td>bedford.farrell@yahoo.com</td>\n",
       "      <td>US</td>\n",
       "      <td>41</td>\n",
       "    </tr>\n",
       "    <tr>\n",
       "      <th>4658</th>\n",
       "      <td>4659</td>\n",
       "      <td>2020-12-31</td>\n",
       "      <td>Michelina Pfannerstill</td>\n",
       "      <td>michelina.pfannerstill@gmail.com</td>\n",
       "      <td>IN</td>\n",
       "      <td>41</td>\n",
       "    </tr>\n",
       "    <tr>\n",
       "      <th>4659</th>\n",
       "      <td>4660</td>\n",
       "      <td>2020-12-31</td>\n",
       "      <td>Mrs. Irene Feil PhD</td>\n",
       "      <td>mrs.irene.feil.phd@gmail.com</td>\n",
       "      <td>US</td>\n",
       "      <td>23</td>\n",
       "    </tr>\n",
       "    <tr>\n",
       "      <th>4660</th>\n",
       "      <td>4661</td>\n",
       "      <td>2020-12-31</td>\n",
       "      <td>Conner Carroll</td>\n",
       "      <td>conner.carroll@gmail.com</td>\n",
       "      <td>AU</td>\n",
       "      <td>1</td>\n",
       "    </tr>\n",
       "    <tr>\n",
       "      <th>4661</th>\n",
       "      <td>4662</td>\n",
       "      <td>2020-12-31</td>\n",
       "      <td>Francis Mosciski</td>\n",
       "      <td>francis.mosciski@gmail.com</td>\n",
       "      <td>IN</td>\n",
       "      <td>37</td>\n",
       "    </tr>\n",
       "  </tbody>\n",
       "</table>\n",
       "<p>4662 rows × 6 columns</p>\n",
       "</div>"
      ],
      "text/plain": [
       "      transaction_id purchased_at          user_full_name  \\\n",
       "0                  1   2018-04-29           Deliah Kemmer   \n",
       "1                  2   2018-04-29   Dr. Ronal Keeling DVM   \n",
       "2                  3   2018-04-29       Taya Ondricka-Orn   \n",
       "3                  4   2018-04-29         Camren Auer DDS   \n",
       "4                  5   2018-04-29   Dr Janna Glover Ph.D.   \n",
       "...              ...          ...                     ...   \n",
       "4657            4658   2020-12-31         Bedford Farrell   \n",
       "4658            4659   2020-12-31  Michelina Pfannerstill   \n",
       "4659            4660   2020-12-31     Mrs. Irene Feil PhD   \n",
       "4660            4661   2020-12-31          Conner Carroll   \n",
       "4661            4662   2020-12-31        Francis Mosciski   \n",
       "\n",
       "                            user_email charge_country  product_id  \n",
       "0              deliah.kemmer@gmail.com             US          31  \n",
       "1       dr.ronal.keeling.dvm@gmail.com             NZ          31  \n",
       "2         taya.ondrickaorn@hotmail.com             US          31  \n",
       "3             camren.auer.dds@live.com             AU          31  \n",
       "4        dr.janna.glover.phd@gmail.com             GB          31  \n",
       "...                                ...            ...         ...  \n",
       "4657         bedford.farrell@yahoo.com             US          41  \n",
       "4658  michelina.pfannerstill@gmail.com             IN          41  \n",
       "4659      mrs.irene.feil.phd@gmail.com             US          23  \n",
       "4660          conner.carroll@gmail.com             AU           1  \n",
       "4661        francis.mosciski@gmail.com             IN          37  \n",
       "\n",
       "[4662 rows x 6 columns]"
      ]
     },
     "execution_count": 25,
     "metadata": {},
     "output_type": "execute_result"
    }
   ],
   "source": [
    "transactions_df = els.db_read_raw_ets_table(table = 'Transactions')\n",
    "transactions_df['product_id'] = transactions_df['product_id'].astype('int')\n",
    "transactions_df"
   ]
  },
  {
   "cell_type": "markdown",
   "metadata": {},
   "source": [
    "Next, create `_filter_2` :\n",
    "\n",
    "* Filter `transaction_df['product_id']` which are in the `product_ids_filtered_series`. \n",
    "* The result is a pandas series of Boolean True/False.\n",
    "* Store this output as `_filter_2`."
   ]
  },
  {
   "cell_type": "code",
   "execution_count": 29,
   "metadata": {},
   "outputs": [
    {
     "data": {
      "text/plain": [
       "0       False\n",
       "1       False\n",
       "2       False\n",
       "3       False\n",
       "4       False\n",
       "        ...  \n",
       "4657     True\n",
       "4658     True\n",
       "4659    False\n",
       "4660    False\n",
       "4661    False\n",
       "Name: product_id, Length: 4662, dtype: bool"
      ]
     },
     "execution_count": 29,
     "metadata": {},
     "output_type": "execute_result"
    }
   ],
   "source": [
    "_filter_2 = transactions_df['product_id'].isin(product_ids_filtered_series)\n",
    "_filter_2"
   ]
  },
  {
   "cell_type": "markdown",
   "metadata": {},
   "source": [
    "Use `_filter_2` to mask the `transactions_df` so only the rows containing \"Learning Labs\" products are shown. \n",
    "Store this result as `transactions_filtered_df`."
   ]
  },
  {
   "cell_type": "code",
   "execution_count": 31,
   "metadata": {},
   "outputs": [],
   "source": [
    "transactions_filtered_df = transactions_df[_filter_2]"
   ]
  },
  {
   "cell_type": "markdown",
   "metadata": {},
   "source": [
    "# Part 3: Update the Email Lead Scoring Function to Add A Regex Command\n",
    "\n",
    "Use what you just learned to make a new function called: `db_read_els_data_regex()`."
   ]
  },
  {
   "cell_type": "markdown",
   "metadata": {},
   "source": [
    "### Instructions:\n",
    "\n",
    "* Begin with the `db_read_els_data()` function shown below, but has been renamed to `db_read_els_data_regex()`. \n",
    "  * A new argument has been added called `transaction_regex = \"All Products\"` which will be used to filter transactions by product matching regex. \n",
    "* You will:\n",
    "  * Add the Products Table into the `engine.connect()` script\n",
    "  * Filter the products table only when `transaction_regex != \"All Products\"`\n",
    "  * Filter the transactions table using the product IDs from the filtered products table only when `transaction_regex != \"All Products\"`"
   ]
  },
  {
   "cell_type": "code",
   "execution_count": null,
   "metadata": {},
   "outputs": [],
   "source": [
    "### Update this function:\n",
    "\n",
    "def db_read_els_data_regex(\n",
    "    transaction_regex = \"All Products\",\n",
    "    conn_string = \"sqlite:///00_database/crm_database.sqlite\"\n",
    "):\n",
    "        \n",
    "    # Connect to engine\n",
    "    engine = sql.create_engine(conn_string)\n",
    "    \n",
    "    # Raw Data Collect\n",
    "    with engine.connect() as conn:\n",
    "        \n",
    "        # Subscribers        \n",
    "        subscribers_df = pd.read_sql(\"SELECT * FROM Subscribers\", conn)\n",
    "        \n",
    "        subscribers_df['mailchimp_id'] = subscribers_df['mailchimp_id'].astype('int')\n",
    "\n",
    "        subscribers_df['member_rating'] = subscribers_df['member_rating'].astype('int')\n",
    "\n",
    "        subscribers_df['optin_time'] = subscribers_df['optin_time'].astype('datetime64')\n",
    "\n",
    "        # Tags\n",
    "        tags_df = pd.read_sql(\"SELECT * FROM Tags\", conn)\n",
    "        \n",
    "        tags_df['mailchimp_id'] = tags_df['mailchimp_id'].astype(\"int\")\n",
    "        \n",
    "        \n",
    "        # Transactions\n",
    "        transactions_df = pd.read_sql(\"SELECT * FROM Transactions\", conn)\n",
    "        \n",
    "        transactions_df['purchased_at'] = transactions_df['purchased_at'].astype('datetime64')\n",
    "\n",
    "        transactions_df['product_id'] = transactions_df['product_id'].astype('int')\n",
    "        \n",
    "        if(transaction_regex !='All Products'):\n",
    "                 \n",
    "            # Filter Products by specific product type\n",
    "            products_df = pd.read_sql(\"SELECT * FROM Products\", conn)\n",
    "            products_df['product_id'] = products_df['product_id'].astype('int')\n",
    "            _filter = product_description_series.str.match(transaction_regex)\n",
    "            \n",
    "            # use filtered series of Product ids to filter transactions to only that product.\n",
    "            Store back as transactions_df\n",
    "            product_ids_filtered_series = products_df[_filter]['product_id']\n",
    "            _filter_2 = transactions_df['product_id'].isin(product_ids_filtered_series)\n",
    "            transactions_df = transactions_df[_filter_2]\n",
    "                \n",
    "        \n",
    "    # MERGE TAG COUNTS\n",
    "    \n",
    "    user_events_df = tags_df \\\n",
    "        .groupby('mailchimp_id') \\\n",
    "        .agg(dict(tag = 'count')) \\\n",
    "        .set_axis(['tag_count'], axis=1) \\\n",
    "        .reset_index()\n",
    "    \n",
    "    subscribers_joined_df = subscribers_df \\\n",
    "        .merge(user_events_df, how='left') \\\n",
    "        .fillna(dict(tag_count = 0))\n",
    "        \n",
    "    subscribers_joined_df['tag_count'] = subscribers_joined_df['tag_count'].astype('int')\n",
    "    \n",
    "    # MERGE TARGET VARIABLE\n",
    "    emails_made_purchase = transactions_df['user_email'].unique()\n",
    "    \n",
    "    subscribers_joined_df['made_purchase'] = subscribers_joined_df['user_email'] \\\n",
    "        .isin(emails_made_purchase) \\\n",
    "        .astype('int')\n",
    "    \n",
    "        \n",
    "    return subscribers_joined_df"
   ]
  },
  {
   "cell_type": "markdown",
   "metadata": {},
   "source": [
    "### Solution:"
   ]
  },
  {
   "cell_type": "code",
   "execution_count": 33,
   "metadata": {},
   "outputs": [],
   "source": [
    "# Final Solution:\n",
    "### Update this function:\n",
    "\n",
    "def db_read_els_data_regex(\n",
    "    transaction_regex = \"All Products\",\n",
    "    conn_string = \"sqlite:///00_database/crm_database.sqlite\"\n",
    "):\n",
    "        \n",
    "    # Connect to engine\n",
    "    engine = sql.create_engine(conn_string)\n",
    "    \n",
    "    # Raw Data Collect\n",
    "    with engine.connect() as conn:\n",
    "        \n",
    "        # Subscribers        \n",
    "        subscribers_df = pd.read_sql(\"SELECT * FROM Subscribers\", conn)\n",
    "        \n",
    "        subscribers_df['mailchimp_id'] = subscribers_df['mailchimp_id'].astype('int')\n",
    "\n",
    "        subscribers_df['member_rating'] = subscribers_df['member_rating'].astype('int')\n",
    "\n",
    "        subscribers_df['optin_time'] = subscribers_df['optin_time'].astype('datetime64')\n",
    "\n",
    "        # Tags\n",
    "        tags_df = pd.read_sql(\"SELECT * FROM Tags\", conn)\n",
    "        \n",
    "        tags_df['mailchimp_id'] = tags_df['mailchimp_id'].astype(\"int\")\n",
    "        \n",
    "        \n",
    "        # Transactions\n",
    "        transactions_df = pd.read_sql(\"SELECT * FROM Transactions\", conn)\n",
    "        \n",
    "        transactions_df['purchased_at'] = transactions_df['purchased_at'].astype('datetime64')\n",
    "\n",
    "        transactions_df['product_id'] = transactions_df['product_id'].astype('int')\n",
    "        \n",
    "        if(transaction_regex !='All Products'):\n",
    "                 \n",
    "            # Filter Products by specific product type\n",
    "            products_df = pd.read_sql(\"SELECT * FROM Products\", conn)\n",
    "            products_df['product_id'] = products_df['product_id'].astype('int')\n",
    "            _filter = product_description_series.str.match(transaction_regex)\n",
    "            \n",
    "            # use filtered series of Product ids to filter transactions to only that product.\n",
    "            #Store back as transactions_df\n",
    "            product_ids_filtered_series = products_df[_filter]['product_id']\n",
    "            _filter_2 = transactions_df['product_id'].isin(product_ids_filtered_series)\n",
    "            transactions_df = transactions_df[_filter_2]\n",
    "                \n",
    "        \n",
    "    # MERGE TAG COUNTS\n",
    "    \n",
    "    user_events_df = tags_df \\\n",
    "        .groupby('mailchimp_id') \\\n",
    "        .agg(dict(tag = 'count')) \\\n",
    "        .set_axis(['tag_count'], axis=1) \\\n",
    "        .reset_index()\n",
    "    \n",
    "    subscribers_joined_df = subscribers_df \\\n",
    "        .merge(user_events_df, how='left') \\\n",
    "        .fillna(dict(tag_count = 0))\n",
    "        \n",
    "    subscribers_joined_df['tag_count'] = subscribers_joined_df['tag_count'].astype('int')\n",
    "    \n",
    "    # MERGE TARGET VARIABLE\n",
    "    emails_made_purchase = transactions_df['user_email'].unique()\n",
    "    \n",
    "    subscribers_joined_df['made_purchase'] = subscribers_joined_df['user_email'] \\\n",
    "        .isin(emails_made_purchase) \\\n",
    "        .astype('int')\n",
    "    \n",
    "        \n",
    "    return subscribers_joined_df"
   ]
  },
  {
   "cell_type": "markdown",
   "metadata": {},
   "source": [
    "## BONUS: Sweetviz Report"
   ]
  },
  {
   "cell_type": "markdown",
   "metadata": {},
   "source": [
    "Next, we are going to tackle making a Sweetviz Report to identify any interesting insights"
   ]
  },
  {
   "cell_type": "markdown",
   "metadata": {},
   "source": [
    "### Step 1: Use the `db_read_els_data_regex()` function to identify Learning Lab transactions\n",
    "\n",
    "* Use the `db_read_els_data_regex()` function to indentify transactions that match \"Learning Lab\"\n",
    "* Store the result as `subscribers_learning_lab_purchase_flag_df`"
   ]
  },
  {
   "cell_type": "code",
   "execution_count": 35,
   "metadata": {},
   "outputs": [],
   "source": [
    "subscribers_learning_lab_purchase_flag_df = db_read_els_data_regex(transaction_regex = \"Learning Lab\")"
   ]
  },
  {
   "cell_type": "markdown",
   "metadata": {},
   "source": [
    "### Step 2: Use Sweetviz Analyze\n",
    "\n",
    "* Create an analysis report using `sv.analyze()`\n",
    "* Set the target feature to \"made_purchase\"\n",
    "* Store the result as `report`"
   ]
  },
  {
   "cell_type": "code",
   "execution_count": 38,
   "metadata": {},
   "outputs": [
    {
     "data": {
      "application/vnd.jupyter.widget-view+json": {
       "model_id": "b90105faf3f44e0ebf0fd35ce2af545a",
       "version_major": 2,
       "version_minor": 0
      },
      "text/plain": [
       "                                             |                                                                …"
      ]
     },
     "metadata": {},
     "output_type": "display_data"
    }
   ],
   "source": [
    "report = sv.analyze(\n",
    "subscribers_learning_lab_purchase_flag_df,\n",
    "target_feat = \"made_purchase\")"
   ]
  },
  {
   "cell_type": "markdown",
   "metadata": {},
   "source": [
    "### Step 3: Save the report\n",
    "\n",
    "* Use `report.show_html()` to create a report\n",
    "* Store it in the file location: `\"challenge_01/subscriber_learninglab_report.html\"`"
   ]
  },
  {
   "cell_type": "code",
   "execution_count": 39,
   "metadata": {},
   "outputs": [
    {
     "name": "stdout",
     "output_type": "stream",
     "text": [
      "Report challenge_01/subscriber_learninglab_report.html was generated! NOTEBOOK/COLAB USERS: the web browser MAY not pop up, regardless, the report IS saved in your notebook/colab files.\n"
     ]
    }
   ],
   "source": [
    "report.show_html(\n",
    "filepath = \"challenge_01/subscriber_learninglab_report.html\")"
   ]
  },
  {
   "cell_type": "code",
   "execution_count": null,
   "metadata": {},
   "outputs": [],
   "source": []
  }
 ],
 "metadata": {
  "kernelspec": {
   "display_name": "Python 3 (ipykernel)",
   "language": "python",
   "name": "python3"
  },
  "language_info": {
   "codemirror_mode": {
    "name": "ipython",
    "version": 3
   },
   "file_extension": ".py",
   "mimetype": "text/x-python",
   "name": "python",
   "nbconvert_exporter": "python",
   "pygments_lexer": "ipython3",
   "version": "3.7.1"
  }
 },
 "nbformat": 4,
 "nbformat_minor": 2
}
