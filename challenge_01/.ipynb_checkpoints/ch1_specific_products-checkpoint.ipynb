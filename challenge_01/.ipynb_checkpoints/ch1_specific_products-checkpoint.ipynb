{
 "cells": [
  {
   "cell_type": "markdown",
   "metadata": {},
   "source": [
    "# Challenge 1: Analyze Specific Products With Regex"
   ]
  },
  {
   "cell_type": "markdown",
   "metadata": {},
   "source": [
    "Machine Learning & APIs with Python Course (DS4B 201-P)\n",
    "\n",
    "Business Science"
   ]
  },
  {
   "cell_type": "markdown",
   "metadata": {},
   "source": [
    "# Challenge Summary\n",
    "\n",
    "**The Situation:** Your boss comes back and asks you to modify the analysis to understand customer's attributes that are interested in purchasing learning labs vs the R-Track Courses. You agree since there could be differences or similarities between the two populations. But how would you update the analysis?\n",
    "\n",
    "**Your Proposed Solution:** You recommend to update the analysis so different products can be targeted such as \"All Products\" or lists of product names (e.g. \"Learning Labs PRO\"). You have heard that Regular Expression can help to filter, and you propose updating the Targeting function `els.db_read_els_data_regex()` to permit filtering products with regular expressions. "
   ]
  },
  {
   "cell_type": "markdown",
   "metadata": {},
   "source": [
    "## Objectives:\n",
    "\n",
    "1. Update `email_lead_scoring` functionality to filter the products\n",
    "\n",
    "2. Apply the existing functionality to analyze trends and compare purchasers of products."
   ]
  },
  {
   "cell_type": "markdown",
   "metadata": {},
   "source": [
    "## Getting Started\n",
    "\n",
    "To read in the data, make sure your current working directory is set to the project directory. Two useful jupyter magic commands are:\n",
    "\n",
    "1. `%pwd`: Print working directory (you can detect your current directory)\n",
    "2. `%cd`: You can change directory to your working directory using relative paths or full paths."
   ]
  },
  {
   "cell_type": "code",
   "execution_count": 1,
   "metadata": {},
   "outputs": [
    {
     "data": {
      "text/plain": [
       "'C:\\\\Users\\\\Owner\\\\OneDrive\\\\DESKTOP\\\\DS4B_201P\\\\ds4b_201p_course\\\\challenge_01'"
      ]
     },
     "execution_count": 1,
     "metadata": {},
     "output_type": "execute_result"
    }
   ],
   "source": [
    "%pwd"
   ]
  },
  {
   "cell_type": "code",
   "execution_count": 2,
   "metadata": {},
   "outputs": [
    {
     "name": "stdout",
     "output_type": "stream",
     "text": [
      "C:\\Users\\Owner\\OneDrive\\DESKTOP\\DS4B_201P\\ds4b_201p_course\n"
     ]
    }
   ],
   "source": [
    "%cd C:\\\\Users\\\\Owner\\\\OneDrive\\\\DESKTOP\\\\DS4B_201P\\\\ds4b_201p_course"
   ]
  },
  {
   "cell_type": "code",
   "execution_count": 3,
   "metadata": {},
   "outputs": [
    {
     "data": {
      "text/plain": [
       "'C:\\\\Users\\\\Owner\\\\OneDrive\\\\DESKTOP\\\\DS4B_201P\\\\ds4b_201p_course'"
      ]
     },
     "execution_count": 3,
     "metadata": {},
     "output_type": "execute_result"
    }
   ],
   "source": [
    "%pwd"
   ]
  },
  {
   "cell_type": "markdown",
   "metadata": {},
   "source": [
    "## Python Package Imports"
   ]
  },
  {
   "cell_type": "code",
   "execution_count": 4,
   "metadata": {},
   "outputs": [],
   "source": [
    "import pandas as pd\n",
    "import numpy as np\n",
    "import sqlalchemy as sql\n",
    "import sweetviz as sv\n",
    "import email_lead_scoring as els"
   ]
  },
  {
   "cell_type": "markdown",
   "metadata": {},
   "source": [
    "# Part 1: Using Regex to Locate Products in the Products Table"
   ]
  },
  {
   "cell_type": "markdown",
   "metadata": {},
   "source": [
    "### Step 1: List the Database Table Names\n",
    "\n",
    "Use `db_read_els_table_names()` to get the tables in the database. "
   ]
  },
  {
   "cell_type": "code",
   "execution_count": 5,
   "metadata": {},
   "outputs": [
    {
     "data": {
      "text/plain": [
       "['Products', 'Subscribers', 'Tags', 'Transactions', 'Website']"
      ]
     },
     "execution_count": 5,
     "metadata": {},
     "output_type": "execute_result"
    }
   ],
   "source": [
    "els.db_read_els_table_names()"
   ]
  },
  {
   "cell_type": "markdown",
   "metadata": {},
   "source": [
    "### Step 2: Collect the Products Table\n",
    "\n",
    "1. Create a `products_df` by reading in the raw els table \"Products\"\n",
    "2. Convert the type of \"product_id\" to `int`.\n",
    "3. Display the first 10 rows with the `.head()` method"
   ]
  },
  {
   "cell_type": "code",
   "execution_count": 6,
   "metadata": {},
   "outputs": [
    {
     "data": {
      "text/html": [
       "<div>\n",
       "<style scoped>\n",
       "    .dataframe tbody tr th:only-of-type {\n",
       "        vertical-align: middle;\n",
       "    }\n",
       "\n",
       "    .dataframe tbody tr th {\n",
       "        vertical-align: top;\n",
       "    }\n",
       "\n",
       "    .dataframe thead th {\n",
       "        text-align: right;\n",
       "    }\n",
       "</style>\n",
       "<table border=\"1\" class=\"dataframe\">\n",
       "  <thead>\n",
       "    <tr style=\"text-align: right;\">\n",
       "      <th></th>\n",
       "      <th>product_id</th>\n",
       "      <th>description</th>\n",
       "      <th>suggested_price</th>\n",
       "    </tr>\n",
       "  </thead>\n",
       "  <tbody>\n",
       "    <tr>\n",
       "      <th>0</th>\n",
       "      <td>1</td>\n",
       "      <td>4-Course Bundle - Machine Learning + Expert We...</td>\n",
       "      <td>241.666667</td>\n",
       "    </tr>\n",
       "    <tr>\n",
       "      <th>1</th>\n",
       "      <td>2</td>\n",
       "      <td>4-Course Bundle - Machine Learning + Expert We...</td>\n",
       "      <td>441.666667</td>\n",
       "    </tr>\n",
       "    <tr>\n",
       "      <th>2</th>\n",
       "      <td>3</td>\n",
       "      <td>4-Course Bundle - Machine Learning + Expert We...</td>\n",
       "      <td>2500.000000</td>\n",
       "    </tr>\n",
       "    <tr>\n",
       "      <th>3</th>\n",
       "      <td>4</td>\n",
       "      <td>5 Course Bundle - Machine Learning + Web Apps ...</td>\n",
       "      <td>275.000000</td>\n",
       "    </tr>\n",
       "    <tr>\n",
       "      <th>4</th>\n",
       "      <td>5</td>\n",
       "      <td>5 Course Bundle - Machine Learning + Web Apps ...</td>\n",
       "      <td>194.444444</td>\n",
       "    </tr>\n",
       "  </tbody>\n",
       "</table>\n",
       "</div>"
      ],
      "text/plain": [
       "   product_id                                        description  \\\n",
       "0           1  4-Course Bundle - Machine Learning + Expert We...   \n",
       "1           2  4-Course Bundle - Machine Learning + Expert We...   \n",
       "2           3  4-Course Bundle - Machine Learning + Expert We...   \n",
       "3           4  5 Course Bundle - Machine Learning + Web Apps ...   \n",
       "4           5  5 Course Bundle - Machine Learning + Web Apps ...   \n",
       "\n",
       "   suggested_price  \n",
       "0       241.666667  \n",
       "1       441.666667  \n",
       "2      2500.000000  \n",
       "3       275.000000  \n",
       "4       194.444444  "
      ]
     },
     "execution_count": 6,
     "metadata": {},
     "output_type": "execute_result"
    }
   ],
   "source": [
    "products_df = els.db_read_raw_ets_table(table = 'Products')\n",
    "products_df['product_id'] = products_df['product_id'].astype('int')\n",
    "products_df.head()"
   ]
  },
  {
   "cell_type": "markdown",
   "metadata": {},
   "source": [
    "Next, get the product descriptions as a pandas Series. And store these as `product_descriptions_series`. "
   ]
  },
  {
   "cell_type": "code",
   "execution_count": 7,
   "metadata": {},
   "outputs": [
    {
     "data": {
      "text/plain": [
       "0     4-Course Bundle - Machine Learning + Expert We...\n",
       "1     4-Course Bundle - Machine Learning + Expert We...\n",
       "2     4-Course Bundle - Machine Learning + Expert We...\n",
       "3     5 Course Bundle - Machine Learning + Web Apps ...\n",
       "4     5 Course Bundle - Machine Learning + Web Apps ...\n",
       "5     5 Course Bundle - Machine Learning + Web Apps ...\n",
       "6     5 Course Bundle - Machine Learning + Web Apps ...\n",
       "7     Bundle - Data Science Starter Kit: R-Track - C...\n",
       "8     Bundle - Data Science Starter Kit: R-Track - C...\n",
       "9     Bundle - DS For Business + Web Apps (Level 1):...\n",
       "10    Bundle - DS For Business + Web Apps (Level 1):...\n",
       "11    Bundle - DS For Business + Web Apps (Level 1):...\n",
       "12    Bundle - DS For Business + Web Apps (Level 1):...\n",
       "13    Bundle - Machine Learning For Business: R-Trac...\n",
       "14    Bundle - Machine Learning For Business: R-Trac...\n",
       "15    Bundle - Machine Learning For Business: R-Trac...\n",
       "16    DS4B 101-R: Business Analysis With R - 3 Low M...\n",
       "17    DS4B 101-R: Business Analysis With R - 6 Low M...\n",
       "18    DS4B 101-R: Business Analysis With R - Monthly...\n",
       "19    DS4B 101-R: Business Analysis With R - Paid Co...\n",
       "20    DS4B 101-R: Business Analysis With R - Single ...\n",
       "21    DS4B 102-R: Shiny Web Applications (Intermedia...\n",
       "22    DS4B 102-R: Shiny Web Applications (Intermedia...\n",
       "23    DS4B 201-R: Data Science For Business With R -...\n",
       "24    DS4B 201-R: Data Science For Business With R -...\n",
       "25    DS4B 201-R: Data Science For Business With R -...\n",
       "26    DS4B 201-R: Data Science For Business With R -...\n",
       "27    DS4B 201-R: Data Science For Business With R -...\n",
       "28    DS4B 201-R: Data Science For Business With R -...\n",
       "29    DS4B 201-R: Data Science For Business With R -...\n",
       "30    DS4B 202A-R: Shiny Developer with AWS - 6 Low ...\n",
       "31    DS4B 202A-R: Shiny Developer with AWS - Paid C...\n",
       "32    DS4B 203-R: High-Performance Time Series Forec...\n",
       "33    DS4B 203-R: High-Performance Time Series Forec...\n",
       "34    DS4B 203-R: High-Performance Time Series Forec...\n",
       "35                  Jumpstart with R - Get Jumpstarted!\n",
       "36           Learning Labs Pro - 6-month Payment Option\n",
       "37             Learning Labs Pro - Low Monthly Payments\n",
       "38                      Learning Labs Pro - Paid Course\n",
       "39    Learning Labs Pro - Subscribe to LL PRO 6-Mont...\n",
       "40    Learning Labs Pro - Subscribe to LL PRO Annual...\n",
       "41    Learning Labs Pro - Subscribe to LL PRO Monthl...\n",
       "42                Learning Labs Pro - Yearly Membership\n",
       "43                      Learning Labs Pro - Yearly Plan\n",
       "Name: description, dtype: object"
      ]
     },
     "execution_count": 7,
     "metadata": {},
     "output_type": "execute_result"
    }
   ],
   "source": [
    "product_description_series = products_df['description']\n",
    "product_description_series"
   ]
  },
  {
   "cell_type": "markdown",
   "metadata": {},
   "source": [
    "### Step 3: Use Regex To Filter Data\n",
    "\n",
    "In this next part, we will use `regex`, a text matching algorithm, to filter the product IDs that we wish to analyze. \n",
    "\n",
    "* Use `.str.match(\"Learning Lab\")` to detect the presence of learning lab. \n",
    "* Store the resulting pandas series as `_filter`"
   ]
  },
  {
   "cell_type": "code",
   "execution_count": 8,
   "metadata": {},
   "outputs": [
    {
     "data": {
      "text/plain": [
       "0     False\n",
       "1     False\n",
       "2     False\n",
       "3     False\n",
       "4     False\n",
       "5     False\n",
       "6     False\n",
       "7     False\n",
       "8     False\n",
       "9     False\n",
       "10    False\n",
       "11    False\n",
       "12    False\n",
       "13    False\n",
       "14    False\n",
       "15    False\n",
       "16    False\n",
       "17    False\n",
       "18    False\n",
       "19    False\n",
       "20    False\n",
       "21    False\n",
       "22    False\n",
       "23    False\n",
       "24    False\n",
       "25    False\n",
       "26    False\n",
       "27    False\n",
       "28    False\n",
       "29    False\n",
       "30    False\n",
       "31    False\n",
       "32    False\n",
       "33    False\n",
       "34    False\n",
       "35    False\n",
       "36     True\n",
       "37     True\n",
       "38     True\n",
       "39     True\n",
       "40     True\n",
       "41     True\n",
       "42     True\n",
       "43     True\n",
       "Name: description, dtype: bool"
      ]
     },
     "execution_count": 8,
     "metadata": {},
     "output_type": "execute_result"
    }
   ],
   "source": [
    "_filter = product_description_series.str.match(\"Learning Lab\")\n",
    "_filter"
   ]
  },
  {
   "cell_type": "markdown",
   "metadata": {},
   "source": [
    "Use the `_filter` to select product ID's for product descriptions that contain \"Learning Lab\"\n",
    "\n",
    "* Take the `products_df` table\n",
    "* Use `[_filter]` to mask the rows that are `False`\n",
    "* Select the `['product_id']` that correspond to the masked rows\n",
    "* Store the result as `product_ids_filtered_series`"
   ]
  },
  {
   "cell_type": "code",
   "execution_count": 9,
   "metadata": {},
   "outputs": [
    {
     "data": {
      "text/plain": [
       "36    39\n",
       "37    40\n",
       "38    41\n",
       "39    42\n",
       "40    43\n",
       "41    44\n",
       "42    45\n",
       "43    46\n",
       "Name: product_id, dtype: int32"
      ]
     },
     "execution_count": 9,
     "metadata": {},
     "output_type": "execute_result"
    }
   ],
   "source": [
    "product_ids_filtered_series = products_df[_filter]['product_id']\n",
    "product_ids_filtered_series"
   ]
  },
  {
   "cell_type": "markdown",
   "metadata": {},
   "source": [
    "# Part 2: Filtering the Transactions Table by Product ID"
   ]
  },
  {
   "cell_type": "markdown",
   "metadata": {},
   "source": [
    "### Step 1: Filter the Transactions Corresponding to the Filtered Product IDs\n",
    "\n",
    "Next, we'll filter the transactions table to down to just the transactions with the product IDs we are interested in. \n",
    "\n",
    "* Read the raw \"Transactions\" Table, and store it as `transactions_df` \n",
    "* Convert the \"product_id\" column to type `int`\n",
    "* Store the result as `transactions_df`"
   ]
  },
  {
   "cell_type": "code",
   "execution_count": 10,
   "metadata": {},
   "outputs": [
    {
     "data": {
      "text/html": [
       "<div>\n",
       "<style scoped>\n",
       "    .dataframe tbody tr th:only-of-type {\n",
       "        vertical-align: middle;\n",
       "    }\n",
       "\n",
       "    .dataframe tbody tr th {\n",
       "        vertical-align: top;\n",
       "    }\n",
       "\n",
       "    .dataframe thead th {\n",
       "        text-align: right;\n",
       "    }\n",
       "</style>\n",
       "<table border=\"1\" class=\"dataframe\">\n",
       "  <thead>\n",
       "    <tr style=\"text-align: right;\">\n",
       "      <th></th>\n",
       "      <th>transaction_id</th>\n",
       "      <th>purchased_at</th>\n",
       "      <th>user_full_name</th>\n",
       "      <th>user_email</th>\n",
       "      <th>charge_country</th>\n",
       "      <th>product_id</th>\n",
       "    </tr>\n",
       "  </thead>\n",
       "  <tbody>\n",
       "    <tr>\n",
       "      <th>0</th>\n",
       "      <td>1</td>\n",
       "      <td>2018-04-29</td>\n",
       "      <td>Deliah Kemmer</td>\n",
       "      <td>deliah.kemmer@gmail.com</td>\n",
       "      <td>US</td>\n",
       "      <td>31</td>\n",
       "    </tr>\n",
       "    <tr>\n",
       "      <th>1</th>\n",
       "      <td>2</td>\n",
       "      <td>2018-04-29</td>\n",
       "      <td>Dr. Ronal Keeling DVM</td>\n",
       "      <td>dr.ronal.keeling.dvm@gmail.com</td>\n",
       "      <td>NZ</td>\n",
       "      <td>31</td>\n",
       "    </tr>\n",
       "    <tr>\n",
       "      <th>2</th>\n",
       "      <td>3</td>\n",
       "      <td>2018-04-29</td>\n",
       "      <td>Taya Ondricka-Orn</td>\n",
       "      <td>taya.ondrickaorn@hotmail.com</td>\n",
       "      <td>US</td>\n",
       "      <td>31</td>\n",
       "    </tr>\n",
       "    <tr>\n",
       "      <th>3</th>\n",
       "      <td>4</td>\n",
       "      <td>2018-04-29</td>\n",
       "      <td>Camren Auer DDS</td>\n",
       "      <td>camren.auer.dds@live.com</td>\n",
       "      <td>AU</td>\n",
       "      <td>31</td>\n",
       "    </tr>\n",
       "    <tr>\n",
       "      <th>4</th>\n",
       "      <td>5</td>\n",
       "      <td>2018-04-29</td>\n",
       "      <td>Dr Janna Glover Ph.D.</td>\n",
       "      <td>dr.janna.glover.phd@gmail.com</td>\n",
       "      <td>GB</td>\n",
       "      <td>31</td>\n",
       "    </tr>\n",
       "    <tr>\n",
       "      <th>...</th>\n",
       "      <td>...</td>\n",
       "      <td>...</td>\n",
       "      <td>...</td>\n",
       "      <td>...</td>\n",
       "      <td>...</td>\n",
       "      <td>...</td>\n",
       "    </tr>\n",
       "    <tr>\n",
       "      <th>4657</th>\n",
       "      <td>4658</td>\n",
       "      <td>2020-12-31</td>\n",
       "      <td>Bedford Farrell</td>\n",
       "      <td>bedford.farrell@yahoo.com</td>\n",
       "      <td>US</td>\n",
       "      <td>41</td>\n",
       "    </tr>\n",
       "    <tr>\n",
       "      <th>4658</th>\n",
       "      <td>4659</td>\n",
       "      <td>2020-12-31</td>\n",
       "      <td>Michelina Pfannerstill</td>\n",
       "      <td>michelina.pfannerstill@gmail.com</td>\n",
       "      <td>IN</td>\n",
       "      <td>41</td>\n",
       "    </tr>\n",
       "    <tr>\n",
       "      <th>4659</th>\n",
       "      <td>4660</td>\n",
       "      <td>2020-12-31</td>\n",
       "      <td>Mrs. Irene Feil PhD</td>\n",
       "      <td>mrs.irene.feil.phd@gmail.com</td>\n",
       "      <td>US</td>\n",
       "      <td>23</td>\n",
       "    </tr>\n",
       "    <tr>\n",
       "      <th>4660</th>\n",
       "      <td>4661</td>\n",
       "      <td>2020-12-31</td>\n",
       "      <td>Conner Carroll</td>\n",
       "      <td>conner.carroll@gmail.com</td>\n",
       "      <td>AU</td>\n",
       "      <td>1</td>\n",
       "    </tr>\n",
       "    <tr>\n",
       "      <th>4661</th>\n",
       "      <td>4662</td>\n",
       "      <td>2020-12-31</td>\n",
       "      <td>Francis Mosciski</td>\n",
       "      <td>francis.mosciski@gmail.com</td>\n",
       "      <td>IN</td>\n",
       "      <td>37</td>\n",
       "    </tr>\n",
       "  </tbody>\n",
       "</table>\n",
       "<p>4662 rows × 6 columns</p>\n",
       "</div>"
      ],
      "text/plain": [
       "      transaction_id purchased_at          user_full_name  \\\n",
       "0                  1   2018-04-29           Deliah Kemmer   \n",
       "1                  2   2018-04-29   Dr. Ronal Keeling DVM   \n",
       "2                  3   2018-04-29       Taya Ondricka-Orn   \n",
       "3                  4   2018-04-29         Camren Auer DDS   \n",
       "4                  5   2018-04-29   Dr Janna Glover Ph.D.   \n",
       "...              ...          ...                     ...   \n",
       "4657            4658   2020-12-31         Bedford Farrell   \n",
       "4658            4659   2020-12-31  Michelina Pfannerstill   \n",
       "4659            4660   2020-12-31     Mrs. Irene Feil PhD   \n",
       "4660            4661   2020-12-31          Conner Carroll   \n",
       "4661            4662   2020-12-31        Francis Mosciski   \n",
       "\n",
       "                            user_email charge_country  product_id  \n",
       "0              deliah.kemmer@gmail.com             US          31  \n",
       "1       dr.ronal.keeling.dvm@gmail.com             NZ          31  \n",
       "2         taya.ondrickaorn@hotmail.com             US          31  \n",
       "3             camren.auer.dds@live.com             AU          31  \n",
       "4        dr.janna.glover.phd@gmail.com             GB          31  \n",
       "...                                ...            ...         ...  \n",
       "4657         bedford.farrell@yahoo.com             US          41  \n",
       "4658  michelina.pfannerstill@gmail.com             IN          41  \n",
       "4659      mrs.irene.feil.phd@gmail.com             US          23  \n",
       "4660          conner.carroll@gmail.com             AU           1  \n",
       "4661        francis.mosciski@gmail.com             IN          37  \n",
       "\n",
       "[4662 rows x 6 columns]"
      ]
     },
     "execution_count": 10,
     "metadata": {},
     "output_type": "execute_result"
    }
   ],
   "source": [
    "transactions_df = els.db_read_raw_ets_table(table = 'Transactions')\n",
    "transactions_df['product_id'] = transactions_df['product_id'].astype('int')\n",
    "transactions_df"
   ]
  },
  {
   "cell_type": "markdown",
   "metadata": {},
   "source": [
    "Next, create `_filter_2` :\n",
    "\n",
    "* Filter `transaction_df['product_id']` which are in the `product_ids_filtered_series`. \n",
    "* The result is a pandas series of Boolean True/False.\n",
    "* Store this output as `_filter_2`."
   ]
  },
  {
   "cell_type": "code",
   "execution_count": 11,
   "metadata": {},
   "outputs": [
    {
     "data": {
      "text/plain": [
       "0       False\n",
       "1       False\n",
       "2       False\n",
       "3       False\n",
       "4       False\n",
       "        ...  \n",
       "4657     True\n",
       "4658     True\n",
       "4659    False\n",
       "4660    False\n",
       "4661    False\n",
       "Name: product_id, Length: 4662, dtype: bool"
      ]
     },
     "execution_count": 11,
     "metadata": {},
     "output_type": "execute_result"
    }
   ],
   "source": [
    "_filter_2 = transactions_df['product_id'].isin(product_ids_filtered_series)\n",
    "_filter_2"
   ]
  },
  {
   "cell_type": "markdown",
   "metadata": {},
   "source": [
    "Use `_filter_2` to mask the `transactions_df` so only the rows containing \"Learning Labs\" products are shown. \n",
    "Store this result as `transactions_filtered_df`."
   ]
  },
  {
   "cell_type": "code",
   "execution_count": 12,
   "metadata": {},
   "outputs": [],
   "source": [
    "transactions_filtered_df = transactions_df[_filter_2]"
   ]
  },
  {
   "cell_type": "markdown",
   "metadata": {},
   "source": [
    "# Part 3: Update the Email Lead Scoring Function to Add A Regex Command\n",
    "\n",
    "Use what you just learned to make a new function called: `db_read_els_data_regex()`."
   ]
  },
  {
   "cell_type": "markdown",
   "metadata": {},
   "source": [
    "### Instructions:\n",
    "\n",
    "* Begin with the `db_read_els_data()` function shown below, but has been renamed to `db_read_els_data_regex()`. \n",
    "  * A new argument has been added called `transaction_regex = \"All Products\"` which will be used to filter transactions by product matching regex. \n",
    "* You will:\n",
    "  * Add the Products Table into the `engine.connect()` script\n",
    "  * Filter the products table only when `transaction_regex != \"All Products\"`\n",
    "  * Filter the transactions table using the product IDs from the filtered products table only when `transaction_regex != \"All Products\"`"
   ]
  },
  {
   "cell_type": "code",
   "execution_count": 14,
   "metadata": {},
   "outputs": [],
   "source": [
    "### Update this function:\n",
    "\n",
    "def db_read_els_data_regex(\n",
    "    transaction_regex = \"All Products\",\n",
    "    conn_string = \"sqlite:///00_database/crm_database.sqlite\"\n",
    "):\n",
    "        \n",
    "    # Connect to engine\n",
    "    engine = sql.create_engine(conn_string)\n",
    "    \n",
    "    # Raw Data Collect\n",
    "    with engine.connect() as conn:\n",
    "        \n",
    "        # Subscribers        \n",
    "        subscribers_df = pd.read_sql(\"SELECT * FROM Subscribers\", conn)\n",
    "        \n",
    "        subscribers_df['mailchimp_id'] = subscribers_df['mailchimp_id'].astype('int')\n",
    "\n",
    "        subscribers_df['member_rating'] = subscribers_df['member_rating'].astype('int')\n",
    "\n",
    "        subscribers_df['optin_time'] = subscribers_df['optin_time'].astype('datetime64')\n",
    "\n",
    "        # Tags\n",
    "        tags_df = pd.read_sql(\"SELECT * FROM Tags\", conn)\n",
    "        \n",
    "        tags_df['mailchimp_id'] = tags_df['mailchimp_id'].astype(\"int\")\n",
    "        \n",
    "        \n",
    "        # Transactions\n",
    "        transactions_df = pd.read_sql(\"SELECT * FROM Transactions\", conn)\n",
    "        \n",
    "        transactions_df['purchased_at'] = transactions_df['purchased_at'].astype('datetime64')\n",
    "\n",
    "        transactions_df['product_id'] = transactions_df['product_id'].astype('int')\n",
    "        \n",
    "        if(transaction_regex !='All Products'):\n",
    "                 \n",
    "            # Filter Products by specific product type\n",
    "            products_df = pd.read_sql(\"SELECT * FROM Products\", conn)\n",
    "            products_df['product_id'] = products_df['product_id'].astype('int')\n",
    "            product_description_series = products_df['description']\n",
    "            _filter = product_description_series.str.match(transaction_regex)\n",
    "            \n",
    "            # use filtered series of Product ids to filter transactions to only that product.\n",
    "            #Store back as transactions_df\n",
    "            product_ids_filtered_series = products_df[_filter]['product_id']\n",
    "            _filter_2 = transactions_df['product_id'].isin(product_ids_filtered_series)\n",
    "            transactions_df = transactions_df[_filter_2]\n",
    "                \n",
    "        \n",
    "    # MERGE TAG COUNTS\n",
    "    \n",
    "    user_events_df = tags_df \\\n",
    "        .groupby('mailchimp_id') \\\n",
    "        .agg(dict(tag = 'count')) \\\n",
    "        .set_axis(['tag_count'], axis=1) \\\n",
    "        .reset_index()\n",
    "    \n",
    "    subscribers_joined_df = subscribers_df \\\n",
    "        .merge(user_events_df, how='left') \\\n",
    "        .fillna(dict(tag_count = 0))\n",
    "        \n",
    "    subscribers_joined_df['tag_count'] = subscribers_joined_df['tag_count'].astype('int')\n",
    "    \n",
    "    # MERGE TARGET VARIABLE\n",
    "    emails_made_purchase = transactions_df['user_email'].unique()\n",
    "    \n",
    "    subscribers_joined_df['made_purchase'] = subscribers_joined_df['user_email'] \\\n",
    "        .isin(emails_made_purchase) \\\n",
    "        .astype('int')\n",
    "    \n",
    "        \n",
    "    return subscribers_joined_df"
   ]
  },
  {
   "cell_type": "markdown",
   "metadata": {},
   "source": [
    "### Solution:"
   ]
  },
  {
   "cell_type": "code",
   "execution_count": 15,
   "metadata": {},
   "outputs": [],
   "source": [
    "# Final Solution:\n",
    "### Update this function:\n",
    "\n",
    "def db_read_els_data_regex(\n",
    "    transaction_regex = \"All Products\",\n",
    "    conn_string = \"sqlite:///00_database/crm_database.sqlite\"\n",
    "):\n",
    "        \n",
    "    # Connect to engine\n",
    "    engine = sql.create_engine(conn_string)\n",
    "    \n",
    "    # Raw Data Collect\n",
    "    with engine.connect() as conn:\n",
    "        \n",
    "        # Subscribers        \n",
    "        subscribers_df = pd.read_sql(\"SELECT * FROM Subscribers\", conn)\n",
    "        \n",
    "        subscribers_df['mailchimp_id'] = subscribers_df['mailchimp_id'].astype('int')\n",
    "\n",
    "        subscribers_df['member_rating'] = subscribers_df['member_rating'].astype('int')\n",
    "\n",
    "        subscribers_df['optin_time'] = subscribers_df['optin_time'].astype('datetime64')\n",
    "\n",
    "        # Tags\n",
    "        tags_df = pd.read_sql(\"SELECT * FROM Tags\", conn)\n",
    "        \n",
    "        tags_df['mailchimp_id'] = tags_df['mailchimp_id'].astype(\"int\")\n",
    "        \n",
    "        \n",
    "        # Transactions\n",
    "        transactions_df = pd.read_sql(\"SELECT * FROM Transactions\", conn)\n",
    "        \n",
    "        transactions_df['purchased_at'] = transactions_df['purchased_at'].astype('datetime64')\n",
    "\n",
    "        transactions_df['product_id'] = transactions_df['product_id'].astype('int')\n",
    "        \n",
    "        if(transaction_regex !='All Products'):\n",
    "                 \n",
    "            # Filter Products by specific product type\n",
    "            products_df = pd.read_sql(\"SELECT * FROM Products\", conn)\n",
    "            products_df['product_id'] = products_df['product_id'].astype('int')\n",
    "            product_description_series = products_df['description']\n",
    "            _filter = product_description_series.str.match(transaction_regex)\n",
    "            \n",
    "            # use filtered series of Product ids to filter transactions to only that product.\n",
    "            #Store back as transactions_df\n",
    "            product_ids_filtered_series = products_df[_filter]['product_id']\n",
    "            _filter_2 = transactions_df['product_id'].isin(product_ids_filtered_series)\n",
    "            transactions_df = transactions_df[_filter_2]\n",
    "                \n",
    "        \n",
    "    # MERGE TAG COUNTS\n",
    "    \n",
    "    user_events_df = tags_df \\\n",
    "        .groupby('mailchimp_id') \\\n",
    "        .agg(dict(tag = 'count')) \\\n",
    "        .set_axis(['tag_count'], axis=1) \\\n",
    "        .reset_index()\n",
    "    \n",
    "    subscribers_joined_df = subscribers_df \\\n",
    "        .merge(user_events_df, how='left') \\\n",
    "        .fillna(dict(tag_count = 0))\n",
    "        \n",
    "    subscribers_joined_df['tag_count'] = subscribers_joined_df['tag_count'].astype('int')\n",
    "    \n",
    "    # MERGE TARGET VARIABLE\n",
    "    emails_made_purchase = transactions_df['user_email'].unique()\n",
    "    \n",
    "    subscribers_joined_df['made_purchase'] = subscribers_joined_df['user_email'] \\\n",
    "        .isin(emails_made_purchase) \\\n",
    "        .astype('int')\n",
    "    \n",
    "        \n",
    "    return subscribers_joined_df"
   ]
  },
  {
   "cell_type": "markdown",
   "metadata": {},
   "source": [
    "## BONUS: Sweetviz Report"
   ]
  },
  {
   "cell_type": "markdown",
   "metadata": {},
   "source": [
    "Next, we are going to tackle making a Sweetviz Report to identify any interesting insights"
   ]
  },
  {
   "cell_type": "markdown",
   "metadata": {},
   "source": [
    "### Step 1: Use the `db_read_els_data_regex()` function to identify Learning Lab transactions\n",
    "\n",
    "* Use the `db_read_els_data_regex()` function to indentify transactions that match \"Learning Lab\"\n",
    "* Store the result as `subscribers_learning_lab_purchase_flag_df`"
   ]
  },
  {
   "cell_type": "code",
   "execution_count": 19,
   "metadata": {},
   "outputs": [
    {
     "data": {
      "text/html": [
       "<div>\n",
       "<style scoped>\n",
       "    .dataframe tbody tr th:only-of-type {\n",
       "        vertical-align: middle;\n",
       "    }\n",
       "\n",
       "    .dataframe tbody tr th {\n",
       "        vertical-align: top;\n",
       "    }\n",
       "\n",
       "    .dataframe thead th {\n",
       "        text-align: right;\n",
       "    }\n",
       "</style>\n",
       "<table border=\"1\" class=\"dataframe\">\n",
       "  <thead>\n",
       "    <tr style=\"text-align: right;\">\n",
       "      <th></th>\n",
       "      <th>mailchimp_id</th>\n",
       "      <th>user_full_name</th>\n",
       "      <th>user_email</th>\n",
       "      <th>member_rating</th>\n",
       "      <th>optin_time</th>\n",
       "      <th>country_code</th>\n",
       "      <th>tag_count</th>\n",
       "      <th>made_purchase</th>\n",
       "    </tr>\n",
       "  </thead>\n",
       "  <tbody>\n",
       "    <tr>\n",
       "      <th>0</th>\n",
       "      <td>3</td>\n",
       "      <td>Garrick Langworth</td>\n",
       "      <td>garrick.langworth@gmail.com</td>\n",
       "      <td>2</td>\n",
       "      <td>2019-05-22</td>\n",
       "      <td>in</td>\n",
       "      <td>6</td>\n",
       "      <td>0</td>\n",
       "    </tr>\n",
       "    <tr>\n",
       "      <th>1</th>\n",
       "      <td>4</td>\n",
       "      <td>Cordell Dickens</td>\n",
       "      <td>cordell.dickens@gmail.com</td>\n",
       "      <td>4</td>\n",
       "      <td>2018-11-19</td>\n",
       "      <td>it</td>\n",
       "      <td>0</td>\n",
       "      <td>0</td>\n",
       "    </tr>\n",
       "    <tr>\n",
       "      <th>2</th>\n",
       "      <td>8</td>\n",
       "      <td>Inga Dach</td>\n",
       "      <td>inga.dach@gmail.com</td>\n",
       "      <td>2</td>\n",
       "      <td>2018-11-19</td>\n",
       "      <td>None</td>\n",
       "      <td>0</td>\n",
       "      <td>0</td>\n",
       "    </tr>\n",
       "    <tr>\n",
       "      <th>3</th>\n",
       "      <td>10</td>\n",
       "      <td>Ferdinand Bergstrom</td>\n",
       "      <td>ferdinand.bergstrom@gmail.com</td>\n",
       "      <td>2</td>\n",
       "      <td>2020-03-20</td>\n",
       "      <td>co</td>\n",
       "      <td>3</td>\n",
       "      <td>0</td>\n",
       "    </tr>\n",
       "    <tr>\n",
       "      <th>4</th>\n",
       "      <td>11</td>\n",
       "      <td>Justen Simonis</td>\n",
       "      <td>justen.simonis@gmail.com</td>\n",
       "      <td>2</td>\n",
       "      <td>2020-04-14</td>\n",
       "      <td>None</td>\n",
       "      <td>0</td>\n",
       "      <td>0</td>\n",
       "    </tr>\n",
       "    <tr>\n",
       "      <th>...</th>\n",
       "      <td>...</td>\n",
       "      <td>...</td>\n",
       "      <td>...</td>\n",
       "      <td>...</td>\n",
       "      <td>...</td>\n",
       "      <td>...</td>\n",
       "      <td>...</td>\n",
       "      <td>...</td>\n",
       "    </tr>\n",
       "    <tr>\n",
       "      <th>19914</th>\n",
       "      <td>33405</td>\n",
       "      <td>Ms. Felicity Moore MD</td>\n",
       "      <td>ms.felicity.moore.md@gmail.com</td>\n",
       "      <td>2</td>\n",
       "      <td>2018-11-18</td>\n",
       "      <td>se</td>\n",
       "      <td>0</td>\n",
       "      <td>0</td>\n",
       "    </tr>\n",
       "    <tr>\n",
       "      <th>19915</th>\n",
       "      <td>33406</td>\n",
       "      <td>Shirley Rowe</td>\n",
       "      <td>shirley.rowe@gmail.com</td>\n",
       "      <td>1</td>\n",
       "      <td>2019-03-12</td>\n",
       "      <td>br</td>\n",
       "      <td>0</td>\n",
       "      <td>0</td>\n",
       "    </tr>\n",
       "    <tr>\n",
       "      <th>19916</th>\n",
       "      <td>33407</td>\n",
       "      <td>Jarrett Walker-Carroll</td>\n",
       "      <td>jarrett.walkercarroll@gmail.com</td>\n",
       "      <td>2</td>\n",
       "      <td>2019-09-09</td>\n",
       "      <td>in</td>\n",
       "      <td>0</td>\n",
       "      <td>0</td>\n",
       "    </tr>\n",
       "    <tr>\n",
       "      <th>19917</th>\n",
       "      <td>33408</td>\n",
       "      <td>Tanja Herzog</td>\n",
       "      <td>tanja.herzog@gmail.com</td>\n",
       "      <td>2</td>\n",
       "      <td>2019-10-24</td>\n",
       "      <td>None</td>\n",
       "      <td>2</td>\n",
       "      <td>0</td>\n",
       "    </tr>\n",
       "    <tr>\n",
       "      <th>19918</th>\n",
       "      <td>33409</td>\n",
       "      <td>Farrell Murphy</td>\n",
       "      <td>farrell.murphy@gmail.com</td>\n",
       "      <td>2</td>\n",
       "      <td>2020-06-19</td>\n",
       "      <td>ae</td>\n",
       "      <td>0</td>\n",
       "      <td>0</td>\n",
       "    </tr>\n",
       "  </tbody>\n",
       "</table>\n",
       "<p>19919 rows × 8 columns</p>\n",
       "</div>"
      ],
      "text/plain": [
       "       mailchimp_id          user_full_name                       user_email  \\\n",
       "0                 3       Garrick Langworth      garrick.langworth@gmail.com   \n",
       "1                 4         Cordell Dickens        cordell.dickens@gmail.com   \n",
       "2                 8               Inga Dach              inga.dach@gmail.com   \n",
       "3                10     Ferdinand Bergstrom    ferdinand.bergstrom@gmail.com   \n",
       "4                11          Justen Simonis         justen.simonis@gmail.com   \n",
       "...             ...                     ...                              ...   \n",
       "19914         33405   Ms. Felicity Moore MD   ms.felicity.moore.md@gmail.com   \n",
       "19915         33406            Shirley Rowe           shirley.rowe@gmail.com   \n",
       "19916         33407  Jarrett Walker-Carroll  jarrett.walkercarroll@gmail.com   \n",
       "19917         33408            Tanja Herzog           tanja.herzog@gmail.com   \n",
       "19918         33409          Farrell Murphy         farrell.murphy@gmail.com   \n",
       "\n",
       "       member_rating optin_time country_code  tag_count  made_purchase  \n",
       "0                  2 2019-05-22           in          6              0  \n",
       "1                  4 2018-11-19           it          0              0  \n",
       "2                  2 2018-11-19         None          0              0  \n",
       "3                  2 2020-03-20           co          3              0  \n",
       "4                  2 2020-04-14         None          0              0  \n",
       "...              ...        ...          ...        ...            ...  \n",
       "19914              2 2018-11-18           se          0              0  \n",
       "19915              1 2019-03-12           br          0              0  \n",
       "19916              2 2019-09-09           in          0              0  \n",
       "19917              2 2019-10-24         None          2              0  \n",
       "19918              2 2020-06-19           ae          0              0  \n",
       "\n",
       "[19919 rows x 8 columns]"
      ]
     },
     "execution_count": 19,
     "metadata": {},
     "output_type": "execute_result"
    }
   ],
   "source": [
    "subscribers_learning_lab_purchase_flag_df = db_read_els_data_regex(transaction_regex = \"Learning Lab\")\n",
    "subscribers_learning_lab_purchase_flag_df"
   ]
  },
  {
   "cell_type": "markdown",
   "metadata": {},
   "source": [
    "### Step 2: Use Sweetviz Analyze\n",
    "\n",
    "* Create an analysis report using `sv.analyze()`\n",
    "* Set the target feature to \"made_purchase\"\n",
    "* Store the result as `report`"
   ]
  },
  {
   "cell_type": "code",
   "execution_count": 17,
   "metadata": {},
   "outputs": [
    {
     "data": {
      "application/vnd.jupyter.widget-view+json": {
       "model_id": "3cb317b8fc5a4eb8b8b520745303b059",
       "version_major": 2,
       "version_minor": 0
      },
      "text/plain": [
       "                                             |                                                                …"
      ]
     },
     "metadata": {},
     "output_type": "display_data"
    }
   ],
   "source": [
    "report = sv.analyze(\n",
    "subscribers_learning_lab_purchase_flag_df,\n",
    "target_feat = \"made_purchase\")"
   ]
  },
  {
   "cell_type": "markdown",
   "metadata": {},
   "source": [
    "### Step 3: Save the report\n",
    "\n",
    "* Use `report.show_html()` to create a report\n",
    "* Store it in the file location: `\"challenge_01/subscriber_learninglab_report.html\"`"
   ]
  },
  {
   "cell_type": "code",
   "execution_count": 18,
   "metadata": {},
   "outputs": [
    {
     "name": "stdout",
     "output_type": "stream",
     "text": [
      "Report challenge_01/subscriber_learninglab_report.html was generated! NOTEBOOK/COLAB USERS: the web browser MAY not pop up, regardless, the report IS saved in your notebook/colab files.\n"
     ]
    }
   ],
   "source": [
    "report.show_html(\n",
    "filepath = \"challenge_01/subscriber_learninglab_report.html\")"
   ]
  },
  {
   "cell_type": "code",
   "execution_count": null,
   "metadata": {},
   "outputs": [],
   "source": []
  }
 ],
 "metadata": {
  "kernelspec": {
   "display_name": "Python 3 (ipykernel)",
   "language": "python",
   "name": "python3"
  },
  "language_info": {
   "codemirror_mode": {
    "name": "ipython",
    "version": 3
   },
   "file_extension": ".py",
   "mimetype": "text/x-python",
   "name": "python",
   "nbconvert_exporter": "python",
   "pygments_lexer": "ipython3",
   "version": "3.7.1"
  }
 },
 "nbformat": 4,
 "nbformat_minor": 2
}
